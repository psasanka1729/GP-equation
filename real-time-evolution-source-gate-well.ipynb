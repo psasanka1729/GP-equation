{
 "cells": [
  {
   "cell_type": "markdown",
   "id": "3c2b6e5c-dd36-4c09-b55e-78a0c5542901",
   "metadata": {},
   "source": [
    "# Real time evolution in the source and gate well"
   ]
  },
  {
   "cell_type": "code",
   "execution_count": 8,
   "id": "f4c3cc04-2317-4043-b5cc-baae711f3fb4",
   "metadata": {},
   "outputs": [],
   "source": [
    "import math\n",
    "import numpy as np\n",
    "from math import sqrt\n",
    "import matplotlib.pyplot as plt\n",
    "from scipy import fftpack"
   ]
  },
  {
   "cell_type": "markdown",
   "id": "b7695330-e8ea-4fbf-8f64-47c95ee2d0d1",
   "metadata": {
    "tags": []
   },
   "source": [
    "# Loading the ground state in the source well"
   ]
  },
  {
   "cell_type": "code",
   "execution_count": 16,
   "id": "e726861c-17c8-4108-b8ae-d2221dbe1dd4",
   "metadata": {},
   "outputs": [
    {
     "data": {
      "image/png": "[encoded data removed]",
      "text/plain": [
       "<Figure size 432x288 with 1 Axes>"
      ]
     },
     "metadata": {
      "needs_background": "light"
     },
     "output_type": "display_data"
    }
   ],
   "source": [
    "ground_state_position,initial_ground_state_wavefunction= np.loadtxt(\"ground_state_wavefunction_source_well.txt\", delimiter = '\\t', unpack=True)\n",
    "plt.plot(ground_state_position/(1.e-6),initial_ground_state_wavefunction)\n",
    "plt.show()"
   ]
  },
  {
   "cell_type": "code",
   "execution_count": 10,
   "id": "8cd20b0a-7c93-4edb-b21e-7ce9952a4e30",
   "metadata": {},
   "outputs": [],
   "source": [
    "source_well_length = len(ground_state_position)"
   ]
  },
  {
   "cell_type": "markdown",
   "id": "102f0f22-743a-4ff1-9653-f29082e8e04d",
   "metadata": {
    "tags": []
   },
   "source": [
    "# Extracting the source and gate well"
   ]
  },
  {
   "cell_type": "code",
   "execution_count": 11,
   "id": "faec53ba-84eb-47c7-8ce1-0fbb6f70c9bf",
   "metadata": {},
   "outputs": [
    {
     "data": {
      "text/plain": [
       "0.7200000000000002"
      ]
     },
     "execution_count": 11,
     "metadata": {},
     "output_type": "execute_result"
    }
   ],
   "source": [
    "3.7-2.98"
   ]
  },
  {
   "cell_type": "code",
   "execution_count": 12,
   "id": "9c40106e-b8f8-4579-8a23-264f4108a724",
   "metadata": {},
   "outputs": [
    {
     "data": {
      "image/png": "[encoded data removed]",
      "text/plain": [
       "<Figure size 432x288 with 1 Axes>"
      ]
     },
     "metadata": {
      "needs_background": "light"
     },
     "output_type": "display_data"
    }
   ],
   "source": [
    "position_landscape,potential_landscape= np.loadtxt(\"potential_landscape.txt\", delimiter = '\\t', unpack=True)\n",
    "def extract_source_and_gate_well_potential(position,potential):\n",
    "    \n",
    "    # Position where the gate well starts.\n",
    "    gate_well_start_index = -34\n",
    "    # Position where the gate well ends.\n",
    "    gate_well_end_index   = 2.98\n",
    "    # Extracts the gate well position.\n",
    "    well_position = position[np.where((position > gate_well_start_index) & (position < gate_well_end_index))]\n",
    "    # Extract the corresponding potential values for the gate well.\n",
    "    well_potential = potential[np.where(position == well_position[0])[0][0]:np.where(position == well_position[-1])[0][0]+1]\n",
    "    \n",
    "    return [well_position,well_potential]\n",
    "\n",
    "source_and_gate_well_position  = extract_source_and_gate_well_potential(position_landscape,potential_landscape)[0]\n",
    "source_and_gate_well_potential = extract_source_and_gate_well_potential(position_landscape,potential_landscape)[1]\n",
    "plt.plot(source_and_gate_well_position,source_and_gate_well_potential)\n",
    "plt.xlabel(r\"$\\mu$ m\")\n",
    "plt.ylabel(r\"kHz\")\n",
    "plt.show()"
   ]
  },
  {
   "cell_type": "code",
   "execution_count": 13,
   "id": "b1a166b4-8bc5-4f22-bd66-2358bf5795c5",
   "metadata": {},
   "outputs": [],
   "source": [
    "source_gate_well_length = len(source_and_gate_well_position)"
   ]
  },
  {
   "cell_type": "markdown",
   "id": "6e95b6ee-4dec-4f1b-80fb-1dffb4e71dde",
   "metadata": {
    "jp-MarkdownHeadingCollapsed": true,
    "tags": []
   },
   "source": [
    "# Shifting the minimum of the potential to position zero"
   ]
  },
  {
   "cell_type": "code",
   "execution_count": 14,
   "id": "784996b8-dfc1-4d8f-b47a-3ac6576aa127",
   "metadata": {},
   "outputs": [
    {
     "ename": "NameError",
     "evalue": "name 'ax' is not defined",
     "output_type": "error",
     "traceback": [
      "\u001b[0;31m---------------------------------------------------------------------------\u001b[0m",
      "\u001b[0;31mNameError\u001b[0m                                 Traceback (most recent call last)",
      "Input \u001b[0;32mIn [14]\u001b[0m, in \u001b[0;36m<cell line: 8>\u001b[0;34m()\u001b[0m\n\u001b[1;32m      4\u001b[0m \u001b[38;5;66;03m# Prints the new location of the potential minima and its value.\u001b[39;00m\n\u001b[1;32m      5\u001b[0m \u001b[38;5;66;03m#print(\"Minimum of the gate well, = \", min(source_and_gate_well_potential), \", location, = \",\u001b[39;00m\n\u001b[1;32m      6\u001b[0m      \u001b[38;5;66;03m# source_and_gate_well_position[[np.where(source_and_gate_well_potential == min(source_and_gate_well_potential))][0][0][0]])\u001b[39;00m\n\u001b[1;32m      7\u001b[0m f \u001b[38;5;241m=\u001b[39m plt\u001b[38;5;241m.\u001b[39mfigure()\n\u001b[0;32m----> 8\u001b[0m \u001b[38;5;28;01mfor\u001b[39;00m spine \u001b[38;5;129;01min\u001b[39;00m \u001b[43max\u001b[49m\u001b[38;5;241m.\u001b[39mspines\u001b[38;5;241m.\u001b[39mvalues():\n\u001b[1;32m      9\u001b[0m     spine\u001b[38;5;241m.\u001b[39mset_linewidth(\u001b[38;5;241m1.9\u001b[39m)\n\u001b[1;32m     10\u001b[0m     ax \u001b[38;5;241m=\u001b[39m f\u001b[38;5;241m.\u001b[39mgca()\n",
      "\u001b[0;31mNameError\u001b[0m: name 'ax' is not defined"
     ]
    },
    {
     "data": {
      "text/plain": [
       "<Figure size 432x288 with 0 Axes>"
      ]
     },
     "metadata": {},
     "output_type": "display_data"
    }
   ],
   "source": [
    "source_and_gate_well_potential_min_index = [np.where(source_and_gate_well_potential == min(source_and_gate_well_potential))][0][0][0]\n",
    "source_and_gate_well_potential = source_and_gate_well_potential - min(source_and_gate_well_potential)\n",
    "source_and_gate_well_position = source_and_gate_well_position-source_and_gate_well_position[source_and_gate_well_potential_min_index]\n",
    "# Prints the new location of the potential minima and its value.\n",
    "#print(\"Minimum of the gate well, = \", min(source_and_gate_well_potential), \", location, = \",\n",
    "     # source_and_gate_well_position[[np.where(source_and_gate_well_potential == min(source_and_gate_well_potential))][0][0][0]])\n",
    "f = plt.figure()\n",
    "for spine in ax.spines.values():\n",
    "    spine.set_linewidth(1.9)\n",
    "    ax = f.gca()\n",
    "ax.tick_params(axis=\"x\", direction=\"inout\", length=10, width=1.5, color=\"k\")\n",
    "ax.tick_params(axis=\"y\", direction=\"inout\", length=10, width=1.5, color=\"k\")\n",
    "plt.plot(source_and_gate_well_position,source_and_gate_well_potential,linewidth=4.1)\n",
    "plt.xlabel(r\"$\\mu$ m\")\n",
    "plt.ylabel(r\"kHz\")\n",
    "f.set_figwidth(14)\n",
    "f.set_figheight(8)\n",
    "plt.savefig('source_gate.png', dpi=300)\n",
    "plt.show()"
   ]
  },
  {
   "cell_type": "markdown",
   "id": "9eb2ae3b-0bf2-4dcf-9021-88ecb57ad5b0",
   "metadata": {
    "tags": []
   },
   "source": [
    "# Parameters and the Hamiltonian"
   ]
  },
  {
   "cell_type": "code",
   "execution_count": 17,
   "id": "d24d8f09-2345-41f8-8ba8-d8599032b8c0",
   "metadata": {},
   "outputs": [],
   "source": [
    "\"\"\"\n",
    "The potential is in kHz units. It is converted to SI units\n",
    "by multiplying 10^3 * h.\n",
    "\"\"\"\n",
    "PI = np.pi\n",
    "H_BAR = 6.626*10**(-34)/(2*PI)\n",
    "xs = source_and_gate_well_position\n",
    "external_potential = source_and_gate_well_potential\n",
    "N  = len(external_potential)\n",
    "r\"\"\" Rb87 parameters \"\"\"\n",
    "# Mass of Rb87 atom.\n",
    "M   = 1.4192261*10**(-25) # kg\n",
    "# s wave scattering length of Rb87 atom.\n",
    "a_s = 98.006*5.29*10**(-11) # m https://journals.aps.org/pra/abstract/10.1103/PhysRevA.87.053614\n",
    "# trapping frequency in the source and gate well.\n",
    "trap_frequency = 2*PI*850 # Hz\n",
    "trap_length = np.sqrt(H_BAR/(M*trap_frequency)) # m\n",
    "A = PI*trap_length**2\n",
    "# Number of atoms in the source well.\n",
    "N_atom = 20*10**3\n",
    "g   = (4*PI*H_BAR**2*a_s)/(A*M)\n",
    "\n",
    "\n",
    "# Length of the space interval.\n",
    "L  = len(xs)#(max(xs)-min(xs))\n",
    "# Increment in the space interval.\n",
    "dx = np.abs(xs[1]-xs[0])\n",
    "# Increment in momentum space interval.\n",
    "dk = (2*PI)/L\n",
    "\n",
    "external_potential = source_and_gate_well_potential*(10**3)*2*PI*(H_BAR) # J\n",
    "xs = source_and_gate_well_position*1.e-6 # m\n",
    "\n",
    "N  = len(external_potential)\n",
    "\n",
    "def V_external(x):\n",
    "    return external_potential\n",
    "\n",
    "# H(k)\n",
    "def Hamiltonian_k(p):\n",
    "    return p**2/(2*M)\n",
    "\n",
    "# H(x).\n",
    "\n",
    "\"\"\"\n",
    "The value of g is set to zero in the source well and to g in the gate well.\n",
    "\n",
    "\"\"\"\n",
    "g_source_well = g*np.ones(source_well_length)\n",
    "g_gate_well = np.zeros(source_gate_well_length-source_well_length)\n",
    "g_source_gate_well = np.hstack([g_source_well,g_gate_well])\n",
    "\n",
    "def Hamiltonian_x(x,psi):\n",
    "    return V_external(x)+N_atom*g_source_gate_well*np.abs(psi)**2"
   ]
  },
  {
   "cell_type": "code",
   "execution_count": null,
   "id": "c2050fe6-1686-49d7-b0b6-581dddb7a2d5",
   "metadata": {},
   "outputs": [],
   "source": [
    "# Momentum space discretization.\n",
    "k = np.hstack([np.arange(0,N/2), np.arange(-N/2+1,0)])*dk\n",
    "E_k = (H_BAR**2*k**2)/(2*M)"
   ]
  },
  {
   "cell_type": "code",
   "execution_count": null,
   "id": "fb5359ee-5802-4597-9778-6ea2dbe7c762",
   "metadata": {},
   "outputs": [],
   "source": [
    "\"\"\"\n",
    "\n",
    "The initial wavefunction only exists in the source well. So while evolving it in real time\n",
    "the initial part in the gate well is set to zero.\n",
    "\n",
    "\"\"\"\n",
    "while len(initial_ground_state_wavefunction) < N:\n",
    "    initial_ground_state_wavefunction=np.hstack((initial_ground_state_wavefunction,np.array([0])))"
   ]
  },
  {
   "cell_type": "markdown",
   "id": "389f5e3a-3622-4c32-906f-58203f01c5d9",
   "metadata": {},
   "source": [
    "# Evolution in real time"
   ]
  },
  {
   "cell_type": "code",
   "execution_count": null,
   "id": "8270438d-595f-4f0b-a92d-3ea3c3119dbf",
   "metadata": {},
   "outputs": [],
   "source": [
    "r\"\"\"\n",
    "\n",
    "A custom normalization function is needed to\n",
    "ensure correct normalization done using a sum instead of an integral.\n",
    "\n",
    "\"\"\"\n",
    "# Normalize the wavefunction in real space.\n",
    "def normalize_x(wavefunction_x):\n",
    "    return wavefunction_x/(np.sqrt(np.sum(np.abs(wavefunction_x)**2)*dx))\n",
    "# Normalize the wavefunction in momentum space.\n",
    "def normalize_k(wavefunction_k):\n",
    "    return wavefunction_k/(np.sqrt(np.sum(np.abs(wavefunction_k)**2)*dk))\n",
    "\n",
    "def real_time_evolution(dt, duration, ITE_wavefunction):\n",
    "    \n",
    "    r\"\"\"\n",
    "    \n",
    "    Input : time interval: dt and total number of iterations to be performed.\n",
    "    Output: real time evolved wavefunction.\n",
    "    \n",
    "    \"\"\"\n",
    "    # Initial guess for the wavefunction.\n",
    "    psi_initial = ITE_wavefunction\n",
    "    # Normalize the initial guess wavefunction.\n",
    "    psi_initial = normalize_x(psi_initial) \n",
    "    \n",
    "    psi_k    = fftpack.fft(psi_initial)\n",
    "    \n",
    "    total_iterations = int(duration/dt)\n",
    "    print(total_iterations)\n",
    "    for i in range(total_iterations):\n",
    "\n",
    "        psi_k = np.exp(-1j*(E_k * dt)/(2*H_BAR)) * psi_k\n",
    "        psi_x = fftpack.ifft(psi_k)\n",
    "        psi_x = np.exp(-1j*Hamiltonian_x(xs,psi_x) * dt/H_BAR) * psi_x\n",
    "        psi_k = fftpack.fft(psi_x)\n",
    "        psi_k = np.exp(-1j*(E_k * dt)/(2*H_BAR)) * psi_k\n",
    "        psi_x = fftpack.ifft(psi_k)\n",
    "        psi_x = normalize_x(psi_x)\n",
    "        psi_k = fftpack.fft(psi_x)  \n",
    "    psi_x = fftpack.ifft(psi_k)\n",
    "    psi_x = normalize_x(psi_x)\n",
    "\n",
    "    return psi_x   "
   ]
  },
  {
   "cell_type": "code",
   "execution_count": null,
   "id": "439a10aa-ee27-41b5-b0bd-ad09d11d6d2c",
   "metadata": {},
   "outputs": [],
   "source": [
    "time_evolved_wavefunction = real_time_evolution(10**(-9),10*10**(-6),initial_ground_state_wavefunction)"
   ]
  },
  {
   "cell_type": "code",
   "execution_count": null,
   "id": "515e9da7-88d7-417a-81ed-97adee66364d",
   "metadata": {},
   "outputs": [],
   "source": [
    "#time_evolved_wavefunction_15 = real_time_evolution(10**(-10),5*10**(-6),time_evolved_wavefunction)"
   ]
  },
  {
   "cell_type": "code",
   "execution_count": null,
   "id": "4a9d8914-1abc-4ebd-92b2-04b532eb2247",
   "metadata": {},
   "outputs": [],
   "source": [
    "#time_evolved_wavefunction_20 = real_time_evolution(10**(-10),5*10**(-6),time_evolved_wavefunction)"
   ]
  },
  {
   "cell_type": "code",
   "execution_count": null,
   "id": "9df1e1bd-ef9d-4087-855b-83f3c4b5626a",
   "metadata": {},
   "outputs": [],
   "source": [
    "#time_evolved_wavefunction_25 = real_time_evolution(10**(-10),5*10**(-6),time_evolved_wavefunction_20)"
   ]
  },
  {
   "cell_type": "code",
   "execution_count": null,
   "id": "2e267d52-9cf8-47c5-863a-afc9cbbeaeae",
   "metadata": {},
   "outputs": [],
   "source": [
    "#time_evolved_wavefunction_30 = real_time_evolution(10**(-10),5*10**(-6),time_evolved_wavefunction_25)"
   ]
  },
  {
   "cell_type": "code",
   "execution_count": null,
   "id": "dbc766b5-006a-4343-baa0-68663bfd559b",
   "metadata": {},
   "outputs": [],
   "source": [
    "#time_evolved_wavefunction_35 = real_time_evolution(10**(-10),5*10**(-6),time_evolved_wavefunction_30)"
   ]
  },
  {
   "cell_type": "code",
   "execution_count": null,
   "id": "ac6c0e06-f4bb-4fae-aba4-6a873bb85b6c",
   "metadata": {},
   "outputs": [],
   "source": [
    "#time_evolved_wavefunction_40 = real_time_evolution(10**(-10),5*10**(-6),time_evolved_wavefunction_35)"
   ]
  },
  {
   "cell_type": "code",
   "execution_count": null,
   "id": "527a1b61-f35c-482f-90d9-6f3f991ea24d",
   "metadata": {},
   "outputs": [],
   "source": [
    "#time_evolved_wavefunction_45 = real_time_evolution(10**(-10),5*10**(-6),time_evolved_wavefunction_40)"
   ]
  },
  {
   "cell_type": "code",
   "execution_count": null,
   "id": "0b5b9344-dd6f-4bfe-9df2-de0b95d28000",
   "metadata": {},
   "outputs": [],
   "source": [
    "#time_evolved_wavefunction_50 = real_time_evolution(10**(-10),5*10**(-6),time_evolved_wavefunction_45)"
   ]
  },
  {
   "cell_type": "code",
   "execution_count": 18,
   "id": "e6608d37-25ba-4106-a186-2a12c3813f17",
   "metadata": {},
   "outputs": [
    {
     "ename": "NameError",
     "evalue": "name 'time_evolved_wavefunction' is not defined",
     "output_type": "error",
     "traceback": [
      "\u001b[0;31m---------------------------------------------------------------------------\u001b[0m",
      "\u001b[0;31mNameError\u001b[0m                                 Traceback (most recent call last)",
      "Input \u001b[0;32mIn [18]\u001b[0m, in \u001b[0;36m<cell line: 17>\u001b[0;34m()\u001b[0m\n\u001b[1;32m     14\u001b[0m plt\u001b[38;5;241m.\u001b[39mfigure(\u001b[38;5;241m1\u001b[39m)\n\u001b[1;32m     16\u001b[0m plt\u001b[38;5;241m.\u001b[39msubplot(\u001b[38;5;241m121\u001b[39m)\n\u001b[0;32m---> 17\u001b[0m plt\u001b[38;5;241m.\u001b[39mplot(xs\u001b[38;5;241m/\u001b[39m(\u001b[38;5;241m1.e-6\u001b[39m),\u001b[43mtime_evolved_wavefunction\u001b[49m\u001b[38;5;241m.\u001b[39mreal,linewidth \u001b[38;5;241m=\u001b[39m \u001b[38;5;241m3.1\u001b[39m,color \u001b[38;5;241m=\u001b[39m \u001b[38;5;124m\"\u001b[39m\u001b[38;5;124mgreen\u001b[39m\u001b[38;5;124m\"\u001b[39m,label\u001b[38;5;241m=\u001b[39m\u001b[38;5;124m\"\u001b[39m\u001b[38;5;124mReal part\u001b[39m\u001b[38;5;124m\"\u001b[39m,)\n\u001b[1;32m     18\u001b[0m plt\u001b[38;5;241m.\u001b[39mplot(xs\u001b[38;5;241m/\u001b[39m(\u001b[38;5;241m1.e-6\u001b[39m),time_evolved_wavefunction\u001b[38;5;241m.\u001b[39mimag,linewidth \u001b[38;5;241m=\u001b[39m \u001b[38;5;241m3.1\u001b[39m,color\u001b[38;5;241m=\u001b[39m\u001b[38;5;124m'\u001b[39m\u001b[38;5;124mblue\u001b[39m\u001b[38;5;124m'\u001b[39m,label\u001b[38;5;241m=\u001b[39m\u001b[38;5;124m\"\u001b[39m\u001b[38;5;124mImaginary part\u001b[39m\u001b[38;5;124m\"\u001b[39m)\n\u001b[1;32m     19\u001b[0m \u001b[38;5;66;03m#plt.plot(xs/(1.e-6),np.abs(time_evolved_wavefunction)**2,label=\"time evolved\")\u001b[39;00m\n\u001b[1;32m     20\u001b[0m \u001b[38;5;66;03m#plt.plot(xs/(1.e-6),np.abs(initial_ground_state_wavefunction)**2,label=\"initial\")\u001b[39;00m\n",
      "\u001b[0;31mNameError\u001b[0m: name 'time_evolved_wavefunction' is not defined"
     ]
    },
    {
     "data": {
      "image/png": "[encoded data removed]",
      "text/plain": [
       "<Figure size 432x288 with 1 Axes>"
      ]
     },
     "metadata": {
      "needs_background": "light"
     },
     "output_type": "display_data"
    }
   ],
   "source": [
    "large = 40; med = 30; small = 20\n",
    "params = {'axes.titlesize': large,\n",
    "          'axes.titlepad' : large,\n",
    "          'legend.fontsize': med,\n",
    "          'axes.labelsize': large ,\n",
    "          'axes.titlesize': large ,\n",
    "          'xtick.labelsize': large ,\n",
    "          'ytick.labelsize': large ,\n",
    "          'figure.titlesize': large}\n",
    "plt.rcParams['text.usetex'] = True\n",
    "#plt.rcParams['text.latex.preamble'] = r'\\usepackage{{amsmath}}'\n",
    "plt.rcParams.update(params)\n",
    "f = plt.figure()\n",
    "plt.figure(1)\n",
    "\n",
    "plt.subplot(121)\n",
    "plt.plot(xs/(1.e-6),time_evolved_wavefunction.real,linewidth = 3.1,color = \"green\",label=\"Real part\",)\n",
    "plt.plot(xs/(1.e-6),time_evolved_wavefunction.imag,linewidth = 3.1,color='blue',label=\"Imaginary part\")\n",
    "#plt.plot(xs/(1.e-6),np.abs(time_evolved_wavefunction)**2,label=\"time evolved\")\n",
    "#plt.plot(xs/(1.e-6),np.abs(initial_ground_state_wavefunction)**2,label=\"initial\")\n",
    "plt.axvline(x = -3.7)\n",
    "plt.legend()\n",
    "plt.xlabel(\"Position, \"+r\"$x ,\\mu m $\",fontweight='bold')  # Set X-axis label\n",
    "plt.xticks(fontweight='bold')\n",
    "plt.ylabel(\"Wavefunction, \"+r\"$\\psi(x)$\",fontweight='bold')  # Set Y-axis label\n",
    "plt.yticks(fontweight='bold')\n",
    "ax = f.gca()\n",
    "ax.tick_params(axis=\"x\", direction=\"inout\", length=10, width=1.5, color=\"k\")\n",
    "ax.tick_params(axis=\"y\", direction=\"inout\", length=10, width=1, color=\"k\")\n",
    "ax.axhline(0, color='black')\n",
    "ax.axvline(0, color='black')\n",
    "plt.title('Time evolved wavefunction')\n",
    "#plt.grid(linestyle='--', alpha=0.5)\n",
    "for spine in ax.spines.values():\n",
    "    spine.set_linewidth(1.8)\n",
    "    \n",
    "plt.subplot(122)\n",
    "# Plots the gate well potential.\n",
    "#plt.xlabel(\"Position, \"+r\"$x ,\\mu m $\",fontweight='bold')  # Set X-axis label\n",
    "#plt.ylabel(r\"kHz\")\n",
    "\n",
    "# Plots the harmonic oscillator potential.\n",
    "#plt.scatter(xs/(1.e-6),0.5*M*OMEGA**2*(xs)**2/(10**3*2*PI*H_BAR),s = 5,label=\"Harmonic potential\")\n",
    "plt.plot(xs/(1.e-6),source_and_gate_well_potential,color=\"red\",linewidth = 5.1,label=\"\")\n",
    "#plt.legend()\n",
    "plt.xlabel(\"Position, \"+r\"$x ,\\mu m $\",fontweight='bold')  # Set X-axis label\n",
    "plt.ylabel(r\"kHz\")\n",
    "\n",
    "plt.xticks(fontweight='bold')\n",
    "plt.yticks(fontweight='bold')\n",
    "plt.title('Source and gate well potential')\n",
    "ax = f.gca()\n",
    "ax.tick_params(axis=\"x\", direction=\"inout\", length=10, width=1.5, color=\"k\")\n",
    "ax.tick_params(axis=\"y\", direction=\"inout\", length=10, width=1, color=\"k\")\n",
    "ax.axhline(0, color='black')\n",
    "ax.axvline(0, color='black')\n",
    "f.set_figwidth(19)\n",
    "f.set_figheight(8)\n",
    "for spine in ax.spines.values():\n",
    "    spine.set_linewidth(1.9)\n",
    "plt.show()"
   ]
  },
  {
   "cell_type": "code",
   "execution_count": null,
   "id": "1439751e-dc9d-42b3-bdfd-635dfaaa1f91",
   "metadata": {},
   "outputs": [],
   "source": [
    "f = plt.figure()\n",
    "plt.figure(1)\n",
    "plt.plot(xs/(1.e-6),time_evolved_wavefunction_15.real,linewidth = 3.1,color = \"green\",label=\"Real part\",)\n",
    "plt.plot(xs/(1.e-6),time_evolved_wavefunction_15.imag,linewidth = 3.1,color='blue',label=\"Imaginary part\")\n",
    "#plt.plot(xs/(1.e-6),np.abs(time_evolved_wavefunction_45)**2,label=\"time evolved\")\n",
    "f.set_figwidth(10)\n",
    "f.set_figheight(8)\n",
    "for spine in ax.spines.values():\n",
    "    spine.set_linewidth(1.9)\n",
    "ax = f.gca()\n",
    "ax.tick_params(axis=\"x\", direction=\"inout\", length=10, width=1.5, color=\"k\")\n",
    "ax.tick_params(axis=\"y\", direction=\"inout\", length=10, width=1, color=\"k\")\n",
    "ax.axhline(0, color='black')\n",
    "ax.axvline(0, color='black')\n",
    "plt.xlabel(\"Position, \"+r\"$ x (\\mu m) $\",fontweight='bold')  # Set X-axis label\n",
    "plt.xticks(fontweight='bold')\n",
    "plt.ylabel(\"Wavefunction, \"+r\"$\\psi(x)$\",fontweight='bold')  # Set Y-axis label\n",
    "plt.yticks(fontweight='bold')\n",
    "plt.legend()\n",
    "plt.gcf().subplots_adjust(bottom=0.15)\n",
    "\n",
    "# alternate option without .gcf\n",
    "plt.subplots_adjust(bottom=0.15)\n",
    "plt.subplots_adjust(left=0.25)\n",
    "#plt.savefig('psi_45_ms.png', dpi=300)\n",
    "plt.show()"
   ]
  },
  {
   "cell_type": "code",
   "execution_count": null,
   "id": "09e0d783-85a3-42fa-868c-c7a781726d52",
   "metadata": {},
   "outputs": [],
   "source": []
  }
 ],
 "metadata": {
  "kernelspec": {
   "display_name": "Python 3 (ipykernel)",
   "language": "python",
   "name": "python3"
  },
  "language_info": {
   "codemirror_mode": {
    "name": "ipython",
    "version": 3
   },
   "file_extension": ".py",
   "mimetype": "text/x-python",
   "name": "python",
   "nbconvert_exporter": "python",
   "pygments_lexer": "ipython3",
   "version": "3.9.12"
  }
 },
 "nbformat": 4,
 "nbformat_minor": 5
}

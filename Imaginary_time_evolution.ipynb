{
 "cells": [
  {
   "cell_type": "code",
   "execution_count": 327,
   "id": "1c201392-1d1c-427b-9615-456a064c7e76",
   "metadata": {},
   "outputs": [],
   "source": [
    "import numpy as np\n",
    "import matplotlib.pyplot as plt\n",
    "from scipy import fftpack"
   ]
  },
  {
   "cell_type": "markdown",
   "id": "f774fd36-8ac5-466d-bd54-af515227a844",
   "metadata": {},
   "source": [
    "# Importing the potential landscape file"
   ]
  },
  {
   "cell_type": "code",
   "execution_count": 328,
   "id": "cb5ee34b-90ae-4e39-a6dc-295add51f840",
   "metadata": {},
   "outputs": [],
   "source": [
    "x,y= np.loadtxt(\"potential_landscape.txt\", delimiter = '\\t', unpack=True)"
   ]
  },
  {
   "cell_type": "code",
   "execution_count": 329,
   "id": "5f5404f7-6dc8-4538-900f-770b343894ae",
   "metadata": {},
   "outputs": [],
   "source": [
    "def gate_well_potential(position,potential):\n",
    "    \n",
    "    # Position where the gate well starts.\n",
    "    gate_well_start_index = -3.5\n",
    "    # Position where the gate well ends.\n",
    "    gate_well_end_index   = 2.8\n",
    "    # Extracts the gate well position.\n",
    "    well_position = position[np.where((position > gate_well_start_index) & (position < gate_well_end_index))]\n",
    "    # Extract the corresponding potential values for the gate well.\n",
    "    well_potential = potential[np.where(position == well_position[0])[0][0]:np.where(position == well_position[-1])[0][0]+1]\n",
    "    \n",
    "    return [well_position,well_potential]"
   ]
  },
  {
   "cell_type": "code",
   "execution_count": 345,
   "id": "f4e63334-9b07-489d-ad06-63e77c908f83",
   "metadata": {},
   "outputs": [
    {
     "data": {
      "image/png": "[encoded data removed]",
      "text/plain": [
       "<Figure size 432x288 with 1 Axes>"
      ]
     },
     "metadata": {
      "needs_background": "light"
     },
     "output_type": "display_data"
    }
   ],
   "source": [
    "plt.plot(gate_well_potential(x,y)[0],gate_well_potential(x,y)[1])\n",
    "plt.xlabel(r\"$\\mu$ m\")\n",
    "plt.ylabel(r\"kHz\")\n",
    "plt.show()"
   ]
  },
  {
   "cell_type": "code",
   "execution_count": 331,
   "id": "efdb48ef-3911-40ba-8d30-371c464a04e4",
   "metadata": {},
   "outputs": [],
   "source": [
    "# Constants.\n",
    "PI    = np.pi\n",
    "H_BAR = 6.67*10**(-34) # m^2 kg/s\n",
    "M     = 1.4192261*10**(-25) # Kg"
   ]
  },
  {
   "cell_type": "code",
   "execution_count": 341,
   "id": "3b24a303-d163-4561-a57e-b40112d4f3f3",
   "metadata": {},
   "outputs": [],
   "source": [
    "#OMEGA = 1.\n",
    "a_s = 98.006*5.29*10**(-11) # m\n",
    "g = (4*PI*H_BAR**2*a_s)/M\n",
    "\n",
    "external_potential = gate_well_potential(x,y)[1]*(10**3)*(H_BAR)\n",
    "def V_external(x):\n",
    "    #return 0.5*OMEGA**2*x**2\n",
    "    return external_potential\n",
    "\n",
    "# H(k)\n",
    "def Hamiltonian_k(p):\n",
    "    return p**2/(2*M)\n",
    "\n",
    "# H(x).\n",
    "def Hamiltonian_x(x,psi):\n",
    "    return V_external(x)+g*np.abs(psi)**2"
   ]
  },
  {
   "cell_type": "code",
   "execution_count": 342,
   "id": "4181f865-f5f2-4be8-a32c-dfcc011acb90",
   "metadata": {},
   "outputs": [
    {
     "data": {
      "text/plain": [
       "2.0422940818783978e-49"
      ]
     },
     "execution_count": 342,
     "metadata": {},
     "output_type": "execute_result"
    }
   ],
   "source": [
    "g"
   ]
  },
  {
   "cell_type": "markdown",
   "id": "88825f6d-4028-41de-93c4-46b775831de5",
   "metadata": {
    "tags": []
   },
   "source": [
    "# Time evolution\n",
    "\n",
    "$$ \\exp{(-i(H(k)+H(x)) dt)} = e^{-iH(k)dt/2} \\quad e^{-iH(x)dt} \\quad e^{-iH(k)dt/2} $$"
   ]
  },
  {
   "cell_type": "code",
   "execution_count": 333,
   "id": "211b6e4a-8c23-4e09-b36f-94f10bf1b64c",
   "metadata": {},
   "outputs": [],
   "source": [
    "x_minimum = -3.5\n",
    "x_maximum = 2.8\n",
    "\n",
    "# Space will be divided into N parts.\n",
    "N = len(gate_well_potential(x,y)[0])\n",
    "\n",
    "r\"\"\" Energy \"\"\"\n",
    "# Discretization of the momentum space.\n",
    "dk = 2*PI/(x_maximum-x_minimum)\n",
    "k = np.hstack([np.arange(0,N/2), np.arange(-N/2,0)])*dk\n",
    "E_k = (H_BAR**2*k**2)/(2*M)\n",
    "\n",
    "# Increment in time.\n",
    "dt = 0.001\n",
    "\n",
    "r\"\"\" Position \"\"\"\n",
    "xs = np.linspace(x_minimum,x_maximum,N)*(10**(-6)) # m\n",
    "\n",
    "# Initial guess.\n",
    "psi_initial = (1/np.sqrt(N))*np.ones(N)\n",
    "    \n",
    "def imaginary_time_evolution(initial_guess, iteration):\n",
    "    \n",
    "        \n",
    "    psi_x = initial_guess\n",
    "    # Wavefunction is transformed into momentum basis.\n",
    "    psi_k = fftpack.fft(psi_x)\n",
    "    \n",
    "    for i in range(iteration):\n",
    "        \n",
    "        # exp(-i H(k) * dt/2) * psi_k.\n",
    "        psi_k = np.exp(-(E_k * dt)/(2*H_BAR)) * psi_k\n",
    "\n",
    "\n",
    "        # Wavefunction is transformed into position basis.\n",
    "        psi_x = fftpack.ifft(psi_k)\n",
    "        # exp(-i H(x) * dt) * psi_x.\n",
    "        psi_x = np.exp(-(Hamiltonian_x(xs,psi_x) * dt)/H_BAR) * psi_x\n",
    "\n",
    "\n",
    "        # Wavefunction is transformed into momentum basis.\n",
    "        psi_k = fftpack.fft(psi_x)\n",
    "        psi_k = np.exp(-(E_k * dt)/(2*H_BAR)) * psi_k\n",
    "\n",
    "        psi_x = fftpack.ifft(psi_k)\n",
    "        # Wavefunction is normalized.\n",
    "        psi_x = psi_x/np.linalg.norm(psi_x)\n",
    "  \n",
    "        psi_k = fftpack.fft(psi_x)\n",
    "    \n",
    "    psi_x = fftpack.ifft(psi_k)\n",
    "    return psi_x/np.linalg.norm(psi_x)"
   ]
  },
  {
   "cell_type": "code",
   "execution_count": 334,
   "id": "bfd7efc1-6061-4223-b63d-e46efc367da3",
   "metadata": {},
   "outputs": [],
   "source": [
    "psi_imaginary_time_evolved = imaginary_time_evolution(psi_initial,100000)"
   ]
  },
  {
   "cell_type": "code",
   "execution_count": 335,
   "id": "eb8a3f46-9ea0-4b3a-9f1b-0ae52aa9f0bf",
   "metadata": {},
   "outputs": [],
   "source": [
    "# The exact ground state of a quantum harmonic oscillator.\n",
    "def psi_0(x):\n",
    "    return (((M*OMEGA/(PI*H_BAR)))**(1/4))*np.exp(-(M*OMEGA/(2*H_BAR))*x**2)"
   ]
  },
  {
   "cell_type": "code",
   "execution_count": 336,
   "id": "ad80a2aa-0edd-4c48-9df3-3f37e19764ec",
   "metadata": {},
   "outputs": [
    {
     "data": {
      "image/png": "[encoded data removed]",
      "text/plain": [
       "<Figure size 648x576 with 1 Axes>"
      ]
     },
     "metadata": {
      "needs_background": "light"
     },
     "output_type": "display_data"
    }
   ],
   "source": [
    "large = 40; med = 30; small = 20\n",
    "params = {'axes.titlesize': large,\n",
    "          'axes.titlepad' : large,\n",
    "          'legend.fontsize': med,\n",
    "          'axes.labelsize': large ,\n",
    "          'axes.titlesize': large ,\n",
    "          'xtick.labelsize': large ,\n",
    "          'ytick.labelsize': large ,\n",
    "          'figure.titlesize': large}\n",
    "plt.rcParams['text.usetex'] = True\n",
    "#plt.rcParams['text.latex.preamble'] = r'\\usepackage{{amsmath}}'\n",
    "\n",
    "plt.rcParams.update(params)\n",
    "f = plt.figure()\n",
    "f.set_figwidth(9)\n",
    "f.set_figheight(8)\n",
    "\n",
    "# Approximate wavefunction from imaginary time evolution.\n",
    "plt.scatter(xs,psi_imaginary_time_evolved.real,color='red',label=\"ITE\")\n",
    "# Exact ground state of the qauntum harmonic oscillator.\n",
    "#plt.plot(xs,psi_0(xs)/np.linalg.norm(psi_0(xs)),linewidth=5,label=\"Exact\")\n",
    "\n",
    "plt.legend()\n",
    "plt.title('Exact wavefunction')\n",
    "plt.xlabel(\"Position, \"+r\"$x$\",fontweight='bold')  # Set X-axis label\n",
    "plt.xticks(fontweight='bold')\n",
    "plt.ylabel(\"Wavefunction, \"+r\"$\\psi(x)$\",fontweight='bold')  # Set Y-axis label\n",
    "plt.yticks(fontweight='bold')\n",
    "plt.title('Ground state')\n",
    "ax = f.gca()\n",
    "ax.tick_params(axis=\"x\", direction=\"inout\", length=10, width=1, color=\"k\")\n",
    "ax.tick_params(axis=\"y\", direction=\"inout\", length=10, width=1, color=\"k\")\n",
    "#plt.grid(linestyle='--', alpha=0.5)\n",
    "for spine in ax.spines.values():\n",
    "    spine.set_linewidth(1.5)\n",
    "plt.show()"
   ]
  }
 ],
 "metadata": {
  "kernelspec": {
   "display_name": "Python 3 (ipykernel)",
   "language": "python",
   "name": "python3"
  },
  "language_info": {
   "codemirror_mode": {
    "name": "ipython",
    "version": 3
   },
   "file_extension": ".py",
   "mimetype": "text/x-python",
   "name": "python",
   "nbconvert_exporter": "python",
   "pygments_lexer": "ipython3",
   "version": "3.9.12"
  }
 },
 "nbformat": 4,
 "nbformat_minor": 5
}

{
 "cells": [
  {
   "cell_type": "code",
   "execution_count": 1,
   "id": "1c201392-1d1c-427b-9615-456a064c7e76",
   "metadata": {},
   "outputs": [],
   "source": [
    "import math\n",
    "import numpy as np\n",
    "import matplotlib.pyplot as plt\n",
    "from scipy import fftpack"
   ]
  },
  {
   "cell_type": "markdown",
   "id": "f774fd36-8ac5-466d-bd54-af515227a844",
   "metadata": {
    "tags": []
   },
   "source": [
    "# Importing the potential landscape file"
   ]
  },
  {
   "cell_type": "code",
   "execution_count": 2,
   "id": "cb5ee34b-90ae-4e39-a6dc-295add51f840",
   "metadata": {},
   "outputs": [],
   "source": [
    "x,y= np.loadtxt(\"potential_landscape.txt\", delimiter = '\\t', unpack=True)"
   ]
  },
  {
   "cell_type": "code",
   "execution_count": 3,
   "id": "5f5404f7-6dc8-4538-900f-770b343894ae",
   "metadata": {},
   "outputs": [],
   "source": [
    "# Position where the gate well starts.\n",
    "gate_well_start_index = -3.5\n",
    "# Position where the gate well ends.\n",
    "gate_well_end_index   = 3.5\n",
    "    \n",
    "def gate_well_potential(position,potential):\n",
    "    \n",
    "    # Extracts the gate well position.\n",
    "    well_position = position[np.where((position > gate_well_start_index) & (position < gate_well_end_index))]\n",
    "    # Extract the corresponding potential values for the gate well.\n",
    "    well_potential = potential[np.where(position == well_position[0])[0][0]:np.where(position == well_position[-1])[0][0]+1]\n",
    "    \n",
    "    return [well_position,well_potential]"
   ]
  },
  {
   "cell_type": "code",
   "execution_count": 4,
   "id": "f4e63334-9b07-489d-ad06-63e77c908f83",
   "metadata": {},
   "outputs": [
    {
     "data": {
      "image/png": "[encoded data removed]",
      "text/plain": [
       "<Figure size 432x288 with 1 Axes>"
      ]
     },
     "metadata": {
      "needs_background": "light"
     },
     "output_type": "display_data"
    }
   ],
   "source": [
    "plt.plot(gate_well_potential(x,y)[0],gate_well_potential(x,y)[1])\n",
    "plt.xlabel(r\"$\\mu$ m\")\n",
    "plt.ylabel(r\"kHz\")\n",
    "plt.show()"
   ]
  },
  {
   "cell_type": "markdown",
   "id": "88825f6d-4028-41de-93c4-46b775831de5",
   "metadata": {
    "tags": []
   },
   "source": [
    "# Time evolution\n",
    "\n",
    "$$ \\exp{(-i(H(k)+H(x)) dt)} = e^{-iH(k)dt/2} \\quad e^{-iH(x)dt} \\quad e^{-iH(k)dt/2} $$"
   ]
  },
  {
   "cell_type": "code",
   "execution_count": 12,
   "id": "972e4d7f-1c2d-4d36-8fd2-8d89544b514c",
   "metadata": {},
   "outputs": [],
   "source": [
    "# Constants.\n",
    "PI    = np.pi\n",
    "H_BAR = 1.0545*10**(-34) # m^2 kg/s"
   ]
  },
  {
   "cell_type": "code",
   "execution_count": 40,
   "id": "577f5438-ce0d-454b-afed-6cda2f0cb5ba",
   "metadata": {},
   "outputs": [],
   "source": [
    "r\"\"\"\n",
    "def interpolate_array(x, new_length):\n",
    "    original_length = len(x)\n",
    "    if original_length >= new_length:\n",
    "        return x[:new_length]  # Return a slice of the original array if it's already longer or equal to the desired length\n",
    "    \n",
    "    # Create a new array with the desired length\n",
    "    interpolated_x = np.zeros(new_length)\n",
    "\n",
    "    # Set the endpoints of the interpolated array\n",
    "    interpolated_x[0] = x[0]\n",
    "    interpolated_x[-1] = x[-1]\n",
    "\n",
    "    # Determine the indices for interpolation\n",
    "    indices = np.linspace(0, original_length - 1, num=new_length, endpoint=True, dtype=int)\n",
    "\n",
    "    # Interpolate the values between endpoints\n",
    "    interpolated_x[1:-1] = np.interp(indices[1:-1], range(original_length), x)\n",
    "\n",
    "    return interpolated_x\n",
    "\n",
    "def average_nearest_neighbors(x):\n",
    "    length = len(x) // 2\n",
    "    new_array = []\n",
    "\n",
    "    for i in range(0, len(x), 2):\n",
    "        average = (x[i] + x[i+1]) / 2\n",
    "        new_array.append(average)\n",
    "\n",
    "    return new_array\"\"\";"
   ]
  },
  {
   "cell_type": "code",
   "execution_count": 11,
   "id": "2c7c48d0-d7fc-44dd-9022-d51d2c74c4f1",
   "metadata": {},
   "outputs": [],
   "source": [
    "#position_average  = average_nearest_neighbors(position_average)\n",
    "#potential_average = average_nearest_neighbors(potential_average)"
   ]
  },
  {
   "cell_type": "code",
   "execution_count": 12,
   "id": "8350cc45-c7c5-4ea7-b887-32f66ecbb069",
   "metadata": {},
   "outputs": [],
   "source": [
    "#print(\"Length of potential array = 10 ^\", np.log2(len(potential_average)))"
   ]
  },
  {
   "cell_type": "code",
   "execution_count": 13,
   "id": "ea9e5601-a89a-44fd-8c30-a41b97da2756",
   "metadata": {},
   "outputs": [],
   "source": [
    "# Finding the index of the minimum of potential.\n",
    "#potential_min_index = np.argmin(potential_interp)\n",
    "# Find the corresponding value of position at that index.\n",
    "#position_min = position_interp[potential_min_index]\n",
    "# Shift the minimum of the potential to zero position.\n",
    "#position_interp = position_interp - position_min"
   ]
  },
  {
   "cell_type": "code",
   "execution_count": 14,
   "id": "60d8040d-288e-497d-b030-bf731c406260",
   "metadata": {},
   "outputs": [],
   "source": [
    "#data = np.column_stack((position_interp, potential_interp))\n",
    "#np.savetxt('potential_landscape_17.txt', data, delimiter='\\t', fmt='%f')"
   ]
  },
  {
   "cell_type": "code",
   "execution_count": 9,
   "id": "ccd6ee00-7c6f-4b4d-a999-e3fa2ab3285a",
   "metadata": {},
   "outputs": [],
   "source": [
    "# Plotting the interpolated gate well potential.\n",
    "#plt.plot(position_interp,potential_interp)\n",
    "#plt.xlabel(r\"$\\mu$ m\")\n",
    "#plt.ylabel(r\"kHz\")\n",
    "#plt.show()"
   ]
  },
  {
   "cell_type": "markdown",
   "id": "3f0ebfc8-4507-46e1-a8bf-116da8b16a76",
   "metadata": {},
   "source": [
    "# Harmonic oscillator potential"
   ]
  },
  {
   "cell_type": "code",
   "execution_count": 17,
   "id": "3e90aa92-8ef9-44b0-97e8-6f9b8e8f2490",
   "metadata": {},
   "outputs": [],
   "source": [
    "#xs = np.linspace(-3.5,3.5,1000)*10**(-6)"
   ]
  },
  {
   "cell_type": "code",
   "execution_count": 25,
   "id": "50a9c951-9b95-40d7-af17-a60379f55021",
   "metadata": {},
   "outputs": [],
   "source": [
    "r\"\"\" Rb87 parameters \"\"\"\n",
    "M   = 1.4192261*10**(-25) # kg\n",
    "a_s = 98.006*5.29*10**(-11) # m https://journals.aps.org/pra/abstract/10.1103/PhysRevA.87.053614\n",
    "g   = (4*PI*H_BAR**2*a_s)/M\n",
    "\n",
    "# Space will be divided into N parts.\n",
    "N = len(gate_well_potential(x,y)[0])\n",
    "external_potential = gate_well_potential(x,y)[1]*(10**3)*(H_BAR)\n",
    "\n",
    "#OMEGA = 4829.25\n",
    "def V_external(x):\n",
    "    #OMEGA = 4829.25\n",
    "    #return 0.5*M*OMEGA**2*xs**2#*(2*PI*H_BAR)  #external_potential\n",
    "    return external_potential\n",
    "\n",
    "# H(k)\n",
    "def Hamiltonian_k(p):\n",
    "    return p**2/(2*M)\n",
    "\n",
    "# H(x).\n",
    "def Hamiltonian_x(x,psi):\n",
    "    return V_external(x)+g*np.abs(psi)**2"
   ]
  },
  {
   "cell_type": "code",
   "execution_count": 14,
   "id": "d6923bcf-8feb-4ae7-b693-b48223229290",
   "metadata": {},
   "outputs": [],
   "source": [
    "#PI = np.pi\n",
    "#H_BAR = 6.67*10**(-34)/(2*PI)"
   ]
  },
  {
   "cell_type": "code",
   "execution_count": 15,
   "id": "2e4457f7-dac8-4a97-9006-86a4b166418e",
   "metadata": {},
   "outputs": [],
   "source": [
    "#plt.plot(xs*10**6,V_external(xs)/(10**(3)*2*PI*H_BAR))\n",
    "#plt.plot(position_interp,potential_interp,label=\"gate\")\n",
    "#plt.legend()\n",
    "#plt.show()"
   ]
  },
  {
   "cell_type": "code",
   "execution_count": 42,
   "id": "fbd623a9-47d9-417c-b97b-c65133d0de75",
   "metadata": {},
   "outputs": [],
   "source": [
    "r\"\"\" Energy \"\"\"\n",
    "# Discretization of the momentum space.\n",
    "xs = gate_well_potential(x,y)[0]\n",
    "dx = (max(xs)-min(xs))/(len(xs))\n",
    "dk = 2*PI/(max(xs)-min(xs))\n",
    "dt = 1.e-7\n",
    "N = len(xs)\n",
    "k = np.hstack([np.arange(0,N/2), np.arange(-N/2,-1)])*dk\n",
    "E_k = (H_BAR**2*k**2)/(2*M)"
   ]
  },
  {
   "cell_type": "code",
   "execution_count": 44,
   "id": "211b6e4a-8c23-4e09-b36f-94f10bf1b64c",
   "metadata": {},
   "outputs": [],
   "source": [
    "def normalize(wavefunction):\n",
    "    return np.linalg.norm(wavefunction)*np.sqrt(dx)\n",
    "\n",
    "# Increment in time.\n",
    "\n",
    "\n",
    "r\"\"\" Position \"\"\"\n",
    "#xs = x*(10**(-6)) # m\n",
    "\n",
    "# Initial guess.\n",
    "psi_initial = (1/np.sqrt(N))*np.ones(N)\n",
    "psi_initial = psi_initial/normalize(psi_initial) \n",
    "\n",
    "        \n",
    "psi_x = psi_initial\n",
    "# Wavefunction is transformed into momentum basis.\n",
    "psi_k = fftpack.fft(psi_x)\n",
    "    \n",
    "for i in range(1000):\n",
    "        \n",
    "    # exp(-i H(k) * dt/(2*h_bar) * psi_k.\n",
    "    psi_k = np.exp(-(E_k * dt)/(2*H_BAR)) * psi_k\n",
    "\n",
    "    # Wavefunction is transformed into position basis.\n",
    "    psi_x = fftpack.ifft(psi_k)\n",
    "    # exp(-i H(x) * dt/h_bar) * psi_x.\n",
    "    psi_x = np.exp(-(Hamiltonian_x(xs,psi_x) * dt)/H_BAR) * psi_x\n",
    "\n",
    "\n",
    "    # Wavefunction is transformed into momentum basis.\n",
    "    psi_k = fftpack.fft(psi_x)\n",
    "    # exp(-i H(k) * dt/(2*h_bar) * psi_k.\n",
    "    psi_k = np.exp(-(E_k * dt)/(2*H_BAR)) * psi_k\n",
    "\n",
    "        \n",
    "    psi_x = fftpack.ifft(psi_k)\n",
    "    # Wavefunction is normalized.\n",
    "    psi_x = psi_x/normalize(psi_x)\n",
    "    psi_k = fftpack.fft(psi_x)        \n",
    "    \n",
    "psi_x = fftpack.ifft(psi_k)\n",
    "psi_x/normalize(psi_x);"
   ]
  },
  {
   "cell_type": "code",
   "execution_count": 45,
   "id": "2b893b39-6312-45f9-877d-5a1d04075205",
   "metadata": {},
   "outputs": [
    {
     "data": {
      "text/plain": [
       "1.0"
      ]
     },
     "execution_count": 45,
     "metadata": {},
     "output_type": "execute_result"
    }
   ],
   "source": [
    "normalize(psi_x)"
   ]
  },
  {
   "cell_type": "code",
   "execution_count": 26,
   "id": "738d9bcc-0426-4468-adab-51825e49ae62",
   "metadata": {},
   "outputs": [],
   "source": [
    "# The exact ground state of a quantum harmonic oscillator.\n",
    "def psi_0(x):\n",
    "    return (((M*OMEGA/(PI*H_BAR)))**(1/4))*np.exp(-(M*OMEGA/(2*H_BAR))*x**2)"
   ]
  },
  {
   "cell_type": "markdown",
   "id": "53ccc21c-7e9a-4d05-982d-405887b99c62",
   "metadata": {},
   "source": [
    "# Plot"
   ]
  },
  {
   "cell_type": "code",
   "execution_count": 48,
   "id": "70cacab3-c0f1-434c-bb8d-c02caba01a1b",
   "metadata": {},
   "outputs": [
    {
     "data": {
      "image/png": "[encoded data removed]",
      "text/plain": [
       "<Figure size 1368x576 with 2 Axes>"
      ]
     },
     "metadata": {
      "needs_background": "light"
     },
     "output_type": "display_data"
    }
   ],
   "source": [
    "\n",
    "\n",
    "large = 40; med = 30; small = 20\n",
    "params = {'axes.titlesize': large,\n",
    "          'axes.titlepad' : large,\n",
    "          'legend.fontsize': med,\n",
    "          'axes.labelsize': large ,\n",
    "          'axes.titlesize': large ,\n",
    "          'xtick.labelsize': large ,\n",
    "          'ytick.labelsize': large ,\n",
    "          'figure.titlesize': large}\n",
    "plt.rcParams['text.usetex'] = True\n",
    "#plt.rcParams['text.latex.preamble'] = r'\\usepackage{{amsmath}}'\n",
    "plt.rcParams.update(params)\n",
    "f = plt.figure()\n",
    "plt.figure(1)\n",
    "\n",
    "plt.subplot(121)\n",
    "plt.scatter(xs,psi_x.real,s=1.5,color='red',label=\"ITE\")\n",
    "plt.legend()\n",
    "plt.title('Exact wavefunction')\n",
    "plt.xlabel(\"Position, \"+r\"$x$\",fontweight='bold')  # Set X-axis label\n",
    "plt.xticks(fontweight='bold')\n",
    "plt.ylabel(\"Wavefunction, \"+r\"$\\psi(x)$\",fontweight='bold')  # Set Y-axis label\n",
    "plt.yticks(fontweight='bold')\n",
    "ax = f.gca()\n",
    "ax.tick_params(axis=\"x\", direction=\"inout\", length=10, width=1.5, color=\"k\")\n",
    "ax.tick_params(axis=\"y\", direction=\"inout\", length=10, width=1, color=\"k\")\n",
    "plt.title('Ground state in the gate well')\n",
    "#plt.grid(linestyle='--', alpha=0.5)\n",
    "for spine in ax.spines.values():\n",
    "    spine.set_linewidth(1.5)\n",
    "    \n",
    "plt.subplot(122)\n",
    "plt.plot(gate_well_potential(x,y)[0],gate_well_potential(x,y)[1],linewidth = 1.5)\n",
    "plt.xlabel(\"Position, \"+r\"$x ,\\mu m $\",fontweight='bold')  # Set X-axis label\n",
    "plt.ylabel(r\"kHz\")\n",
    "plt.xticks(fontweight='bold')\n",
    "plt.yticks(fontweight='bold')\n",
    "plt.title('Gate well potential')\n",
    "ax = f.gca()\n",
    "ax.tick_params(axis=\"x\", direction=\"inout\", length=10, width=1.5, color=\"k\")\n",
    "ax.tick_params(axis=\"y\", direction=\"inout\", length=10, width=1, color=\"k\")\n",
    "f.set_figwidth(19)\n",
    "f.set_figheight(8)\n",
    "plt.show()\n",
    "\n"
   ]
  },
  {
   "cell_type": "code",
   "execution_count": null,
   "id": "2649a325-0e5e-4454-bfa9-46dec4fe2ae9",
   "metadata": {},
   "outputs": [],
   "source": []
  }
 ],
 "metadata": {
  "kernelspec": {
   "display_name": "Python 3 (ipykernel)",
   "language": "python",
   "name": "python3"
  },
  "language_info": {
   "codemirror_mode": {
    "name": "ipython",
    "version": 3
   },
   "file_extension": ".py",
   "mimetype": "text/x-python",
   "name": "python",
   "nbconvert_exporter": "python",
   "pygments_lexer": "ipython3",
   "version": "3.9.12"
  }
 },
 "nbformat": 4,
 "nbformat_minor": 5
}
